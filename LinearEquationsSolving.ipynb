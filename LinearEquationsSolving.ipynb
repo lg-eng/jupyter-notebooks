{
 "cells": [
  {
   "cell_type": "markdown",
   "id": "e7bff595",
   "metadata": {},
   "source": [
    "![Schaltung](Image1.jpeg)"
   ]
  },
  {
   "cell_type": "code",
   "execution_count": 5,
   "id": "dd12c2dc-27b9-48bf-9c27-b61ee09d2de5",
   "metadata": {},
   "outputs": [
    {
     "data": {
      "text/latex": [
       "$\\displaystyle U_{1} = \\frac{R_{1} R_{2} Uq + R_{1} R_{3} Uq + R_{1} R_{4} Uq}{R_{1} R_{2} + R_{1} R_{3} + R_{1} R_{4} + R_{2} R_{4} + R_{3} R_{4}}$"
      ],
      "text/plain": [
       "Eq(U1, (R1*R2*Uq + R1*R3*Uq + R1*R4*Uq)/(R1*R2 + R1*R3 + R1*R4 + R2*R4 + R3*R4))"
      ]
     },
     "metadata": {},
     "output_type": "display_data"
    },
    {
     "data": {
      "text/latex": [
       "$\\displaystyle U_{1} = 14.109375 \\text{V}$"
      ],
      "text/plain": [
       "Eq(U1, 14.109375*volt)"
      ]
     },
     "metadata": {},
     "output_type": "display_data"
    },
    {
     "data": {
      "text/latex": [
       "$\\displaystyle U_{2} = \\frac{R_{2} R_{4} Uq}{R_{1} R_{2} + R_{1} R_{3} + R_{1} R_{4} + R_{2} R_{4} + R_{3} R_{4}}$"
      ],
      "text/plain": [
       "Eq(U2, R2*R4*Uq/(R1*R2 + R1*R3 + R1*R4 + R2*R4 + R3*R4))"
      ]
     },
     "metadata": {},
     "output_type": "display_data"
    },
    {
     "data": {
      "text/latex": [
       "$\\displaystyle U_{2} = 9.384375 \\text{V}$"
      ],
      "text/plain": [
       "Eq(U2, 9.384375*volt)"
      ]
     },
     "metadata": {},
     "output_type": "display_data"
    },
    {
     "data": {
      "text/latex": [
       "$\\displaystyle U_{3} = \\frac{R_{3} R_{4} Uq}{R_{1} R_{2} + R_{1} R_{3} + R_{1} R_{4} + R_{2} R_{4} + R_{3} R_{4}}$"
      ],
      "text/plain": [
       "Eq(U3, R3*R4*Uq/(R1*R2 + R1*R3 + R1*R4 + R2*R4 + R3*R4))"
      ]
     },
     "metadata": {},
     "output_type": "display_data"
    },
    {
     "data": {
      "text/latex": [
       "$\\displaystyle U_{3} = 29.00625 \\text{V}$"
      ],
      "text/plain": [
       "Eq(U3, 29.00625*volt)"
      ]
     },
     "metadata": {},
     "output_type": "display_data"
    },
    {
     "data": {
      "text/latex": [
       "$\\displaystyle U_{4} = \\frac{R_{2} R_{4} Uq + R_{3} R_{4} Uq}{R_{1} R_{2} + R_{1} R_{3} + R_{1} R_{4} + R_{2} R_{4} + R_{3} R_{4}}$"
      ],
      "text/plain": [
       "Eq(U4, (R2*R4*Uq + R3*R4*Uq)/(R1*R2 + R1*R3 + R1*R4 + R2*R4 + R3*R4))"
      ]
     },
     "metadata": {},
     "output_type": "display_data"
    },
    {
     "data": {
      "text/latex": [
       "$\\displaystyle U_{4} = 38.390625 \\text{V}$"
      ],
      "text/plain": [
       "Eq(U4, 38.390625*volt)"
      ]
     },
     "metadata": {},
     "output_type": "display_data"
    },
    {
     "data": {
      "text/latex": [
       "$\\displaystyle Iges = \\frac{R_{2} Uq + R_{3} Uq + R_{4} Uq}{R_{1} R_{2} + R_{1} R_{3} + R_{1} R_{4} + R_{2} R_{4} + R_{3} R_{4}}$"
      ],
      "text/plain": [
       "Eq(Iges, (R2*Uq + R3*Uq + R4*Uq)/(R1*R2 + R1*R3 + R1*R4 + R2*R4 + R3*R4))"
      ]
     },
     "metadata": {},
     "output_type": "display_data"
    },
    {
     "data": {
      "text/latex": [
       "$\\displaystyle Iges = 14.109375 \\text{A}$"
      ],
      "text/plain": [
       "Eq(Iges, 14.109375*ampere)"
      ]
     },
     "metadata": {},
     "output_type": "display_data"
    },
    {
     "data": {
      "text/latex": [
       "$\\displaystyle I_{2} = \\frac{R_{4} Uq}{R_{1} R_{2} + R_{1} R_{3} + R_{1} R_{4} + R_{2} R_{4} + R_{3} R_{4}}$"
      ],
      "text/plain": [
       "Eq(I2, R4*Uq/(R1*R2 + R1*R3 + R1*R4 + R2*R4 + R3*R4))"
      ]
     },
     "metadata": {},
     "output_type": "display_data"
    },
    {
     "data": {
      "text/latex": [
       "$\\displaystyle I_{2} = 4.265625 \\text{A}$"
      ],
      "text/plain": [
       "Eq(I2, 4.265625*ampere)"
      ]
     },
     "metadata": {},
     "output_type": "display_data"
    },
    {
     "data": {
      "text/latex": [
       "$\\displaystyle I_{4} = \\frac{R_{2} Uq + R_{3} Uq}{R_{1} R_{2} + R_{1} R_{3} + R_{1} R_{4} + R_{2} R_{4} + R_{3} R_{4}}$"
      ],
      "text/plain": [
       "Eq(I4, (R2*Uq + R3*Uq)/(R1*R2 + R1*R3 + R1*R4 + R2*R4 + R3*R4))"
      ]
     },
     "metadata": {},
     "output_type": "display_data"
    },
    {
     "data": {
      "text/latex": [
       "$\\displaystyle I_{4} = 9.84375 \\text{A}$"
      ],
      "text/plain": [
       "Eq(I4, 9.84375*ampere)"
      ]
     },
     "metadata": {},
     "output_type": "display_data"
    }
   ],
   "source": [
    "#importieren der Pakete\n",
    "import sympy as sp\n",
    "from sympy.physics.units import volt, ampere, ohm, convert_to\n",
    "\n",
    "#Symbole definieren\n",
    "R1,R2,R3,R4,Uq,U1,U2,U3,U4,Iges,I2,I4 = sp.symbols('R1,R2,R3,R4,Uq,U1,U2,U3,U4,Iges,I2,I4')\n",
    "\n",
    "#Zahlenwerte\n",
    "vals = {R1: (1*ohm), R2: 2.2*ohm, R3: 6.8*ohm,R4: 3.9*ohm,Uq:52.5*volt}\n",
    "\n",
    "#Gleichungen\n",
    "M1 = sp.Eq(0, -Uq+U1+U2+U3)\n",
    "M2 = sp.Eq(0, U4-U2-U3)\n",
    "K1 = sp.Eq(0, Iges-I2-I4)\n",
    "O1 = sp.Eq(0, R1*Iges-U1)\n",
    "O2 = sp.Eq(0, R2*I2-U2)\n",
    "O3 = sp.Eq(0, R3*I2-U3)\n",
    "O4 = sp.Eq(0, R4*I4-U4)\n",
    "\n",
    "#Lösen des Gleichungssystems\n",
    "ans = sp.solve((M1,M2,K1,O1,O2,O3,O4), (U1,U2,U3,U4,Iges,I2,I4))\n",
    "\n",
    "#Anzeigen der Ergebnisse\n",
    "for key in ans:\n",
    "    display(sp.Eq(key,ans[key]))\n",
    "    if 'I' in str(key):\n",
    "        display((sp.Eq(key,convert_to(ans[key].subs(vals),ampere))))\n",
    "    else:\n",
    "        display(sp.Eq(key,ans[key].subs(vals)))"
   ]
  }
 ],
 "metadata": {
  "kernelspec": {
   "display_name": "Python 3 (ipykernel)",
   "language": "python",
   "name": "python3"
  },
  "language_info": {
   "codemirror_mode": {
    "name": "ipython",
    "version": 3
   },
   "file_extension": ".py",
   "mimetype": "text/x-python",
   "name": "python",
   "nbconvert_exporter": "python",
   "pygments_lexer": "ipython3",
   "version": "3.8.11"
  }
 },
 "nbformat": 4,
 "nbformat_minor": 5
}
